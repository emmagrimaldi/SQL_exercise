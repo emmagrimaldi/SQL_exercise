{
 "cells": [
  {
   "cell_type": "code",
   "execution_count": null,
   "metadata": {},
   "outputs": [],
   "source": [
    "DELETE FROM titanic WHERE Embarked is NULL\n",
    "\n",
    "UPDATE titanic SET Cabin = '¯\\(ツ)/¯' WHERE Cabin is NULL\n",
    "\n",
    "ALTER TABLE titanic ADD COLUMN FamilyCount REAL;\n",
    "UPDATE titanic SET FamilyCount = SibSp+1\n",
    "\n",
    "ALTER TABLE titanic ADD COLUMN isReverend REAL;\n",
    "UPDATE titanic SET IsReverend = 1 WHERE Name like '%Rev%'\n",
    "UPDATE titanic SET IsReverend = 0 WHERE isReverend is NULL\n",
    "\n",
    "ALTER TABLE titanic ADD COLUMN Embarked_C REAL\n",
    "ALTER TABLE titanic ADD COLUMN Embarked_Q REAL\n",
    "ALTER TABLE titanic ADD COLUMN Embarked_S REAL\n",
    "UPDATE titanic SET Embarked_C = 1 WHERE Embarked = 'C'\n",
    "UPDATE titanic SET Embarked_S = 1 WHERE Embarked = 'S'\n",
    "UPDATE titanic SET Embarked_Q = 1 WHERE Embarked = 'Q'\n",
    "UPDATE titanic SET Embarked_C = 0 WHERE Embarked_C is NULL\n",
    "UPDATE titanic SET Embarked_S = 0 WHERE Embarked_S is NULL\n",
    "UPDATE titanic SET Embarked_Q = 0 WHERE Embarked_Q is NULL\n",
    "\n",
    "ALTER TABLE titanic ADD COLUMN M REAL\n",
    "ALTER TABLE titanic ADD COLUMN F REAL\n",
    "UPDATE titanic SET M = 1 WHERE Sex = 'male'\n",
    "UPDATE titanic SET F = 1 WHERE Sex = 'female'\n",
    "UPDATE titanic SET M = 0 WHERE M is NULL\n",
    "UPDATE titanic SET F = 0 WHERE F is NULL\n",
    "\n",
    "\n",
    "\n",
    "\n"
   ]
  }
 ],
 "metadata": {
  "kernelspec": {
   "display_name": "Python 3",
   "language": "python",
   "name": "python3"
  },
  "language_info": {
   "codemirror_mode": {
    "name": "ipython",
    "version": 3
   },
   "file_extension": ".py",
   "mimetype": "text/x-python",
   "name": "python",
   "nbconvert_exporter": "python",
   "pygments_lexer": "ipython3",
   "version": "3.6.5"
  }
 },
 "nbformat": 4,
 "nbformat_minor": 2
}
